{
 "cells": [
  {
   "cell_type": "markdown",
   "id": "0eb1248e",
   "metadata": {},
   "source": [
    "Import cereal data and fill arrays with the data. Model will find correlation between calories and rating"
   ]
  },
  {
   "cell_type": "code",
   "execution_count": 69,
   "id": "99f44c8f",
   "metadata": {},
   "outputs": [],
   "source": [
    "from config import DATA_PATH\n",
    "import csv\n",
    "import numpy as np\n",
    "import tensorflow as tf\n",
    "from tensorflow import keras\n",
    "from tensorflow.keras import layers\n",
    "import pandas as pd\n",
    "import matplotlib.pyplot as plt"
   ]
  },
  {
   "cell_type": "code",
   "execution_count": 70,
   "id": "87275d9d",
   "metadata": {},
   "outputs": [],
   "source": [
    "\n",
    "calories = []\n",
    "rating = []\n",
    "\n",
    "with open(DATA_PATH, \"r\", newline='') as datafile:\n",
    "    reader = csv.reader(datafile, delimiter= ',')\n",
    "    next(reader)\n",
    "    for row in reader:\n",
    "        calories.append(float(row[3]))\n",
    "        rating.append(float(row[15]))\n",
    "\n",
    "calories = np.asarray(calories)\n",
    "rating = np.asarray(rating)\n",
    "\n"
   ]
  },
  {
   "cell_type": "code",
   "execution_count": 71,
   "id": "c1ad7b78",
   "metadata": {},
   "outputs": [
    {
     "name": "stdout",
     "output_type": "stream",
     "text": [
      "First example: 70.0\n",
      "\n",
      "Normalized: [[-1.91]]\n"
     ]
    }
   ],
   "source": [
    "normalizer = tf.keras.layers.Normalization(axis=-1)\n",
    "calories_array = np.array(calories.reshape(-1,1))\n",
    "normalizer.adapt(np.array(calories_array))\n",
    "\n",
    "first = np.array(calories[0])\n",
    "\n",
    "\n",
    "with np.printoptions(precision=2, suppress=True):\n",
    "  print('First example:', first)\n",
    "  print()\n",
    "  print('Normalized:', normalizer(first).numpy())"
   ]
  },
  {
   "cell_type": "code",
   "execution_count": 72,
   "id": "e3762d0c",
   "metadata": {},
   "outputs": [
    {
     "name": "stderr",
     "output_type": "stream",
     "text": [
      "/Users/joachim/miniconda3/envs/tfenv/lib/python3.11/site-packages/keras/src/layers/preprocessing/tf_data_layer.py:19: UserWarning: Do not pass an `input_shape`/`input_dim` argument to a layer. When using Sequential models, prefer using an `Input(shape)` object as the first layer in the model instead.\n",
      "  super().__init__(**kwargs)\n"
     ]
    }
   ],
   "source": [
    "calories_normalizer = layers.Normalization(input_shape=[1,], axis=None)\n",
    "calories_normalizer.adapt(calories)\n",
    "\n",
    "\n",
    "rating_model = tf.keras.models.Sequential([\n",
    "        calories_normalizer,\n",
    "        layers.Dense(units=1)\n",
    "    ])\n",
    "\n"
   ]
  },
  {
   "cell_type": "code",
   "execution_count": 73,
   "id": "469ff193",
   "metadata": {},
   "outputs": [
    {
     "name": "stdout",
     "output_type": "stream",
     "text": [
      "\u001b[1m1/1\u001b[0m \u001b[32m━━━━━━━━━━━━━━━━━━━━\u001b[0m\u001b[37m\u001b[0m \u001b[1m0s\u001b[0m 31ms/step\n"
     ]
    },
    {
     "data": {
      "text/plain": [
       "array([[0.26736176]], dtype=float32)"
      ]
     },
     "execution_count": 73,
     "metadata": {},
     "output_type": "execute_result"
    }
   ],
   "source": [
    "calories = np.array(calories)\n",
    "rating_model.predict(calories[:1])\n"
   ]
  },
  {
   "cell_type": "code",
   "execution_count": null,
   "id": "bbd41200",
   "metadata": {},
   "outputs": [],
   "source": [
    "\n"
   ]
  },
  {
   "cell_type": "code",
   "execution_count": 74,
   "id": "b1a85d14",
   "metadata": {},
   "outputs": [],
   "source": [
    "rating_model.compile(optimizer=tf.keras.optimizers.Adam(learning_rate=0.1),\n",
    "              loss='mean_absolute_error',\n",
    "              metrics=['mean_squared_error'])\n",
    "\n"
   ]
  },
  {
   "cell_type": "code",
   "execution_count": 75,
   "id": "42311120",
   "metadata": {},
   "outputs": [],
   "source": [
    "history = rating_model.fit(calories, rating, epochs=1000, verbose = 0, validation_split=0.2)"
   ]
  },
  {
   "cell_type": "code",
   "execution_count": 76,
   "id": "f5147d57",
   "metadata": {},
   "outputs": [
    {
     "data": {
      "text/html": [
       "<div>\n",
       "<style scoped>\n",
       "    .dataframe tbody tr th:only-of-type {\n",
       "        vertical-align: middle;\n",
       "    }\n",
       "\n",
       "    .dataframe tbody tr th {\n",
       "        vertical-align: top;\n",
       "    }\n",
       "\n",
       "    .dataframe thead th {\n",
       "        text-align: right;\n",
       "    }\n",
       "</style>\n",
       "<table border=\"1\" class=\"dataframe\">\n",
       "  <thead>\n",
       "    <tr style=\"text-align: right;\">\n",
       "      <th></th>\n",
       "      <th>loss</th>\n",
       "      <th>mean_squared_error</th>\n",
       "      <th>val_loss</th>\n",
       "      <th>val_mean_squared_error</th>\n",
       "      <th>epoch</th>\n",
       "    </tr>\n",
       "  </thead>\n",
       "  <tbody>\n",
       "    <tr>\n",
       "      <th>995</th>\n",
       "      <td>8.009219</td>\n",
       "      <td>102.452087</td>\n",
       "      <td>8.680655</td>\n",
       "      <td>135.297089</td>\n",
       "      <td>995</td>\n",
       "    </tr>\n",
       "    <tr>\n",
       "      <th>996</th>\n",
       "      <td>8.008024</td>\n",
       "      <td>102.384529</td>\n",
       "      <td>8.678123</td>\n",
       "      <td>135.241791</td>\n",
       "      <td>996</td>\n",
       "    </tr>\n",
       "    <tr>\n",
       "      <th>997</th>\n",
       "      <td>8.008369</td>\n",
       "      <td>102.370300</td>\n",
       "      <td>8.680899</td>\n",
       "      <td>135.317780</td>\n",
       "      <td>997</td>\n",
       "    </tr>\n",
       "    <tr>\n",
       "      <th>998</th>\n",
       "      <td>8.008530</td>\n",
       "      <td>102.401115</td>\n",
       "      <td>8.685221</td>\n",
       "      <td>135.397430</td>\n",
       "      <td>998</td>\n",
       "    </tr>\n",
       "    <tr>\n",
       "      <th>999</th>\n",
       "      <td>8.007725</td>\n",
       "      <td>102.467934</td>\n",
       "      <td>8.692434</td>\n",
       "      <td>135.572372</td>\n",
       "      <td>999</td>\n",
       "    </tr>\n",
       "  </tbody>\n",
       "</table>\n",
       "</div>"
      ],
      "text/plain": [
       "         loss  mean_squared_error  val_loss  val_mean_squared_error  epoch\n",
       "995  8.009219          102.452087  8.680655              135.297089    995\n",
       "996  8.008024          102.384529  8.678123              135.241791    996\n",
       "997  8.008369          102.370300  8.680899              135.317780    997\n",
       "998  8.008530          102.401115  8.685221              135.397430    998\n",
       "999  8.007725          102.467934  8.692434              135.572372    999"
      ]
     },
     "execution_count": 76,
     "metadata": {},
     "output_type": "execute_result"
    }
   ],
   "source": [
    "hist = pd.DataFrame(history.history)\n",
    "hist['epoch'] = history.epoch\n",
    "hist.tail()"
   ]
  },
  {
   "cell_type": "code",
   "execution_count": 77,
   "id": "74d42c0f",
   "metadata": {},
   "outputs": [],
   "source": [
    "def plot_loss(history):\n",
    "  plt.plot(history.history['loss'], label='loss')\n",
    "  plt.plot(history.history['val_loss'], label='val_loss')\n",
    "  plt.xlabel('Epoch')\n",
    "  plt.ylabel('Error [MPG]')\n",
    "  plt.legend()\n",
    "  plt.grid(True)\n",
    "\n",
    "\n"
   ]
  },
  {
   "cell_type": "code",
   "execution_count": 78,
   "id": "f2850e36",
   "metadata": {},
   "outputs": [
    {
     "data": {
      "image/png": "[encoded data removed]",
      "text/plain": [
       "<Figure size 640x480 with 1 Axes>"
      ]
     },
     "metadata": {},
     "output_type": "display_data"
    }
   ],
   "source": [
    "plot_loss(history)"
   ]
  },
  {
   "cell_type": "code",
   "execution_count": 79,
   "id": "c7fdcfbf",
   "metadata": {},
   "outputs": [
    {
     "name": "stdout",
     "output_type": "stream",
     "text": [
      "\u001b[1m8/8\u001b[0m \u001b[32m━━━━━━━━━━━━━━━━━━━━\u001b[0m\u001b[37m\u001b[0m \u001b[1m0s\u001b[0m 4ms/step \n"
     ]
    }
   ],
   "source": [
    "x = tf.linspace(0.0, 250, 251)\n",
    "y = rating_model.predict(x)\n",
    "def plot_cereal(x, y):\n",
    "  plt.scatter(calories, rating, label='Data')\n",
    "  plt.plot(x, y, color='k', label='Predictions')\n",
    "  plt.xlabel('Calories')\n",
    "  plt.ylabel('Rating')\n",
    "  plt.legend()"
   ]
  },
  {
   "cell_type": "code",
   "execution_count": 80,
   "id": "698cfff3",
   "metadata": {},
   "outputs": [
    {
     "data": {
      "image/png": "[encoded data removed]",
      "text/plain": [
       "<Figure size 640x480 with 1 Axes>"
      ]
     },
     "metadata": {},
     "output_type": "display_data"
    }
   ],
   "source": [
    "plot_cereal(x, y)"
   ]
  }
 ],
 "metadata": {
  "kernelspec": {
   "display_name": "tfenv",
   "language": "python",
   "name": "python3"
  },
  "language_info": {
   "codemirror_mode": {
    "name": "ipython",
    "version": 3
   },
   "file_extension": ".py",
   "mimetype": "text/x-python",
   "name": "python",
   "nbconvert_exporter": "python",
   "pygments_lexer": "ipython3",
   "version": "3.11.13"
  }
 },
 "nbformat": 4,
 "nbformat_minor": 5
}
